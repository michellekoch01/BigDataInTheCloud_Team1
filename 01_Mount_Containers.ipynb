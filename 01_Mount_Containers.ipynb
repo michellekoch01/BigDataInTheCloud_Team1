{
 "cells": [
  {
   "cell_type": "markdown",
   "metadata": {
    "application/vnd.databricks.v1+cell": {
     "cellMetadata": {},
     "inputWidgets": {},
     "nuid": "2b9707e7-3c5b-4dea-b751-582b7fc7d6c8",
     "showTitle": false,
     "title": ""
    }
   },
   "source": [
    "#### Mount Folder 'input'"
   ]
  },
  {
   "cell_type": "code",
   "execution_count": 0,
   "metadata": {
    "application/vnd.databricks.v1+cell": {
     "cellMetadata": {
      "byteLimit": 2048000,
      "rowLimit": 10000
     },
     "collapsed": true,
     "inputWidgets": {},
     "nuid": "39bba807-917b-4958-9926-91a73c802791",
     "showTitle": false,
     "title": ""
    }
   },
   "outputs": [
    {
     "output_type": "display_data",
     "data": {
      "text/html": [
       "<style scoped>\n",
       "  .ansiout {\n",
       "    display: block;\n",
       "    unicode-bidi: embed;\n",
       "    white-space: pre-wrap;\n",
       "    word-wrap: break-word;\n",
       "    word-break: break-all;\n",
       "    font-family: \"Source Code Pro\", \"Menlo\", monospace;;\n",
       "    font-size: 13px;\n",
       "    color: #555;\n",
       "    margin-left: 4px;\n",
       "    line-height: 19px;\n",
       "  }\n",
       "</style>\n",
       "<div class=\"ansiout\">Out[7]: True</div>"
      ]
     },
     "metadata": {
      "application/vnd.databricks.v1+output": {
       "addedWidgets": {},
       "arguments": {},
       "data": "<div class=\"ansiout\">Out[7]: True</div>",
       "datasetInfos": [],
       "metadata": {},
       "removedWidgets": [],
       "type": "html"
      }
     },
     "output_type": "display_data"
    }
   ],
   "source": [
    "#Mount Azure Blob Storage Container 'input' to DBFS in Azure Databricks\n",
    "dbutils.fs.mount(source = 'wasbs://input@storageaccountteam1.blob.core.windows.net',\n",
    "                 mount_point = '/mnt/input',\n",
    "                 extra_configs = \n",
    "                 {'fs.azure.account.key.storageaccountteam1.blob.core.windows.net': 'h1mDZtQyeLBqt+RcNTkU/Q6g7vf1NJu+/56TAdiZ3J2Mq9FX7Q8F9wPESyanuWiUfMqE3J8Jm+SJ+AStmTp42g=='})"
   ]
  },
  {
   "cell_type": "code",
   "execution_count": 0,
   "metadata": {
    "application/vnd.databricks.v1+cell": {
     "cellMetadata": {
      "byteLimit": 2048000,
      "rowLimit": 10000
     },
     "collapsed": true,
     "inputWidgets": {},
     "nuid": "ef0c78bf-4a13-4f08-aadf-5fa16d54bda4",
     "showTitle": false,
     "title": ""
    }
   },
   "outputs": [
    {
     "output_type": "display_data",
     "data": {
      "text/html": [
       "<style scoped>\n",
       "  .ansiout {\n",
       "    display: block;\n",
       "    unicode-bidi: embed;\n",
       "    white-space: pre-wrap;\n",
       "    word-wrap: break-word;\n",
       "    word-break: break-all;\n",
       "    font-family: \"Source Code Pro\", \"Menlo\", monospace;;\n",
       "    font-size: 13px;\n",
       "    color: #555;\n",
       "    margin-left: 4px;\n",
       "    line-height: 19px;\n",
       "  }\n",
       "</style>\n",
       "<div class=\"ansiout\">Out[8]: [FileInfo(path=&#39;dbfs:/mnt/input/ch.csv_already_loaded_20230923173513&#39;, name=&#39;ch.csv_already_loaded_20230923173513&#39;, size=2887293),\n",
       " FileInfo(path=&#39;dbfs:/mnt/input/es.csv&#39;, name=&#39;es.csv&#39;, size=2934135),\n",
       " FileInfo(path=&#39;dbfs:/mnt/input/gb.csv_already_loaded_20230924061856&#39;, name=&#39;gb.csv_already_loaded_20230924061856&#39;, size=5868673),\n",
       " FileInfo(path=&#39;dbfs:/mnt/input/se.csv_already_loaded_20230923172512&#39;, name=&#39;se.csv_already_loaded_20230923172512&#39;, size=2931936)]</div>"
      ]
     },
     "metadata": {
      "application/vnd.databricks.v1+output": {
       "addedWidgets": {},
       "arguments": {},
       "data": "<div class=\"ansiout\">Out[8]: [FileInfo(path=&#39;dbfs:/mnt/input/ch.csv_already_loaded_20230923173513&#39;, name=&#39;ch.csv_already_loaded_20230923173513&#39;, size=2887293),\n FileInfo(path=&#39;dbfs:/mnt/input/es.csv&#39;, name=&#39;es.csv&#39;, size=2934135),\n FileInfo(path=&#39;dbfs:/mnt/input/gb.csv_already_loaded_20230924061856&#39;, name=&#39;gb.csv_already_loaded_20230924061856&#39;, size=5868673),\n FileInfo(path=&#39;dbfs:/mnt/input/se.csv_already_loaded_20230923172512&#39;, name=&#39;se.csv_already_loaded_20230923172512&#39;, size=2931936)]</div>",
       "datasetInfos": [],
       "metadata": {},
       "removedWidgets": [],
       "type": "html"
      }
     },
     "output_type": "display_data"
    }
   ],
   "source": [
    "#Check files in mounted storage account (folder 'output')\n",
    "dbutils.fs.ls('/mnt/input')"
   ]
  },
  {
   "cell_type": "code",
   "execution_count": 0,
   "metadata": {
    "application/vnd.databricks.v1+cell": {
     "cellMetadata": {
      "byteLimit": 2048000,
      "rowLimit": 10000
     },
     "collapsed": true,
     "inputWidgets": {},
     "nuid": "5cdad43b-daee-45af-b1ec-fd4f1dd710c5",
     "showTitle": false,
     "title": ""
    }
   },
   "outputs": [
    {
     "output_type": "display_data",
     "data": {
      "text/html": [
       "<style scoped>\n",
       "  .ansiout {\n",
       "    display: block;\n",
       "    unicode-bidi: embed;\n",
       "    white-space: pre-wrap;\n",
       "    word-wrap: break-word;\n",
       "    word-break: break-all;\n",
       "    font-family: \"Source Code Pro\", \"Menlo\", monospace;;\n",
       "    font-size: 13px;\n",
       "    color: #555;\n",
       "    margin-left: 4px;\n",
       "    line-height: 19px;\n",
       "  }\n",
       "</style>\n",
       "<div class=\"ansiout\">+--------------------+--------------------+-------+\n",
       "               start|                 end|   load|\n",
       "+--------------------+--------------------+-------+\n",
       "2015-01-01 00:00:...|2015-01-01 01:00:...|24382.0|\n",
       "2015-01-01 01:00:...|2015-01-01 02:00:...|22734.0|\n",
       "2015-01-01 02:00:...|2015-01-01 03:00:...|21286.0|\n",
       "2015-01-01 03:00:...|2015-01-01 04:00:...|20264.0|\n",
       "2015-01-01 04:00:...|2015-01-01 05:00:...|19905.0|\n",
       "2015-01-01 05:00:...|2015-01-01 06:00:...|20010.0|\n",
       "2015-01-01 06:00:...|2015-01-01 07:00:...|20377.0|\n",
       "2015-01-01 07:00:...|2015-01-01 08:00:...|20094.0|\n",
       "2015-01-01 08:00:...|2015-01-01 09:00:...|20637.0|\n",
       "2015-01-01 09:00:...|2015-01-01 10:00:...|22250.0|\n",
       "2015-01-01 10:00:...|2015-01-01 11:00:...|23547.0|\n",
       "2015-01-01 11:00:...|2015-01-01 12:00:...|24133.0|\n",
       "2015-01-01 12:00:...|2015-01-01 13:00:...|24713.0|\n",
       "2015-01-01 13:00:...|2015-01-01 14:00:...|24672.0|\n",
       "2015-01-01 14:00:...|2015-01-01 15:00:...|23528.0|\n",
       "2015-01-01 15:00:...|2015-01-01 16:00:...|23118.0|\n",
       "2015-01-01 16:00:...|2015-01-01 17:00:...|23606.0|\n",
       "2015-01-01 17:00:...|2015-01-01 18:00:...|26447.0|\n",
       "2015-01-01 18:00:...|2015-01-01 19:00:...|28020.0|\n",
       "2015-01-01 19:00:...|2015-01-01 20:00:...|29014.0|\n",
       "+--------------------+--------------------+-------+\n",
       "only showing top 20 rows\n",
       "\n",
       "</div>"
      ]
     },
     "metadata": {
      "application/vnd.databricks.v1+output": {
       "addedWidgets": {},
       "arguments": {},
       "data": "<div class=\"ansiout\">+--------------------+--------------------+-------+\n|               start|                 end|   load|\n+--------------------+--------------------+-------+\n|2015-01-01 00:00:...|2015-01-01 01:00:...|24382.0|\n|2015-01-01 01:00:...|2015-01-01 02:00:...|22734.0|\n|2015-01-01 02:00:...|2015-01-01 03:00:...|21286.0|\n|2015-01-01 03:00:...|2015-01-01 04:00:...|20264.0|\n|2015-01-01 04:00:...|2015-01-01 05:00:...|19905.0|\n|2015-01-01 05:00:...|2015-01-01 06:00:...|20010.0|\n|2015-01-01 06:00:...|2015-01-01 07:00:...|20377.0|\n|2015-01-01 07:00:...|2015-01-01 08:00:...|20094.0|\n|2015-01-01 08:00:...|2015-01-01 09:00:...|20637.0|\n|2015-01-01 09:00:...|2015-01-01 10:00:...|22250.0|\n|2015-01-01 10:00:...|2015-01-01 11:00:...|23547.0|\n|2015-01-01 11:00:...|2015-01-01 12:00:...|24133.0|\n|2015-01-01 12:00:...|2015-01-01 13:00:...|24713.0|\n|2015-01-01 13:00:...|2015-01-01 14:00:...|24672.0|\n|2015-01-01 14:00:...|2015-01-01 15:00:...|23528.0|\n|2015-01-01 15:00:...|2015-01-01 16:00:...|23118.0|\n|2015-01-01 16:00:...|2015-01-01 17:00:...|23606.0|\n|2015-01-01 17:00:...|2015-01-01 18:00:...|26447.0|\n|2015-01-01 18:00:...|2015-01-01 19:00:...|28020.0|\n|2015-01-01 19:00:...|2015-01-01 20:00:...|29014.0|\n+--------------------+--------------------+-------+\nonly showing top 20 rows\n\n</div>",
       "datasetInfos": [],
       "metadata": {},
       "removedWidgets": [],
       "type": "html"
      }
     },
     "output_type": "display_data"
    }
   ],
   "source": [
    "#Check if it works\n",
    "\n",
    "file_path = '/mnt/input/es.csv'\n",
    "\n",
    "# Read the CSV file into a DataFrame\n",
    "df = spark.read.option(\"header\", \"true\").csv(file_path)\n",
    "\n",
    "# Show the first few rows of the DataFrame\n",
    "df.show()"
   ]
  },
  {
   "cell_type": "markdown",
   "metadata": {
    "application/vnd.databricks.v1+cell": {
     "cellMetadata": {},
     "inputWidgets": {},
     "nuid": "2093aa7b-060b-429e-96fc-5dc65a48bce8",
     "showTitle": false,
     "title": ""
    }
   },
   "source": [
    "#### Mount Folder 'outputdatabricks'"
   ]
  },
  {
   "cell_type": "code",
   "execution_count": 0,
   "metadata": {
    "application/vnd.databricks.v1+cell": {
     "cellMetadata": {
      "byteLimit": 2048000,
      "rowLimit": 10000
     },
     "collapsed": true,
     "inputWidgets": {},
     "nuid": "c37b778b-7cfd-40fb-9e09-074794fcbbc3",
     "showTitle": false,
     "title": ""
    }
   },
   "outputs": [
    {
     "output_type": "display_data",
     "data": {
      "text/html": [
       "<style scoped>\n",
       "  .ansiout {\n",
       "    display: block;\n",
       "    unicode-bidi: embed;\n",
       "    white-space: pre-wrap;\n",
       "    word-wrap: break-word;\n",
       "    word-break: break-all;\n",
       "    font-family: \"Source Code Pro\", \"Menlo\", monospace;;\n",
       "    font-size: 13px;\n",
       "    color: #555;\n",
       "    margin-left: 4px;\n",
       "    line-height: 19px;\n",
       "  }\n",
       "</style>\n",
       "<div class=\"ansiout\">Out[5]: True</div>"
      ]
     },
     "metadata": {
      "application/vnd.databricks.v1+output": {
       "addedWidgets": {},
       "arguments": {},
       "data": "<div class=\"ansiout\">Out[5]: True</div>",
       "datasetInfos": [],
       "metadata": {},
       "removedWidgets": [],
       "type": "html"
      }
     },
     "output_type": "display_data"
    }
   ],
   "source": [
    "#Mount Azure Blob Storage Container 'outputdatabricks' to DBFS in Azure Databricks\n",
    "dbutils.fs.mount(source = 'wasbs://outputdatabricks@storageaccountteam1.blob.core.windows.net',\n",
    "                 mount_point = '/mnt/outputdatabricks',\n",
    "                 extra_configs = \n",
    "                 {'fs.azure.account.key.storageaccountteam1.blob.core.windows.net': 'h1mDZtQyeLBqt+RcNTkU/Q6g7vf1NJu+/56TAdiZ3J2Mq9FX7Q8F9wPESyanuWiUfMqE3J8Jm+SJ+AStmTp42g=='})"
   ]
  },
  {
   "cell_type": "code",
   "execution_count": 0,
   "metadata": {
    "application/vnd.databricks.v1+cell": {
     "cellMetadata": {
      "byteLimit": 2048000,
      "rowLimit": 10000
     },
     "collapsed": true,
     "inputWidgets": {},
     "nuid": "3a412cc4-7ed9-4d7e-92de-c78a51f97a5a",
     "showTitle": false,
     "title": ""
    }
   },
   "outputs": [
    {
     "output_type": "display_data",
     "data": {
      "text/html": [
       "<style scoped>\n",
       "  .ansiout {\n",
       "    display: block;\n",
       "    unicode-bidi: embed;\n",
       "    white-space: pre-wrap;\n",
       "    word-wrap: break-word;\n",
       "    word-break: break-all;\n",
       "    font-family: \"Source Code Pro\", \"Menlo\", monospace;;\n",
       "    font-size: 13px;\n",
       "    color: #555;\n",
       "    margin-left: 4px;\n",
       "    line-height: 19px;\n",
       "  }\n",
       "</style>\n",
       "<div class=\"ansiout\">Out[6]: [FileInfo(path=&#39;dbfs:/mnt/outputdatabricks/gb_cleaned_20230924061856.csv&#39;, name=&#39;gb_cleaned_20230924061856.csv&#39;, size=14867635),\n",
       " FileInfo(path=&#39;dbfs:/mnt/outputdatabricks/temp/&#39;, name=&#39;temp/&#39;, size=0)]</div>"
      ]
     },
     "metadata": {
      "application/vnd.databricks.v1+output": {
       "addedWidgets": {},
       "arguments": {},
       "data": "<div class=\"ansiout\">Out[6]: [FileInfo(path=&#39;dbfs:/mnt/outputdatabricks/gb_cleaned_20230924061856.csv&#39;, name=&#39;gb_cleaned_20230924061856.csv&#39;, size=14867635),\n FileInfo(path=&#39;dbfs:/mnt/outputdatabricks/temp/&#39;, name=&#39;temp/&#39;, size=0)]</div>",
       "datasetInfos": [],
       "metadata": {},
       "removedWidgets": [],
       "type": "html"
      }
     },
     "output_type": "display_data"
    }
   ],
   "source": [
    "#Check files in mounted storage account (folder 'outputdatabricks')\n",
    "dbutils.fs.ls('/mnt/outputdatabricks')"
   ]
  }
 ],
 "metadata": {
  "application/vnd.databricks.v1+notebook": {
   "dashboards": [],
   "language": "python",
   "notebookMetadata": {
    "pythonIndentUnit": 4
   },
   "notebookName": "01_Mount_Containers",
   "widgets": {}
  }
 },
 "nbformat": 4,
 "nbformat_minor": 0
}
